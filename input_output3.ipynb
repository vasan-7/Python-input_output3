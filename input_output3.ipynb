{
 "cells": [
  {
   "cell_type": "code",
   "execution_count": null,
   "id": "015d1b39-5613-4959-b43c-1088d3ac1fac",
   "metadata": {},
   "outputs": [],
   "source": [
    "\"\"\"\n",
    "Write a code to get the input in the given format and print the output in the given format.\n",
    "\n",
    "\n",
    "Input Description:\n",
    "First-line indicates two integers which are the size of array and 'K' value. Second-line indicates an integer contains elements of an array.\n",
    "\n",
    "Output Description:\n",
    "Print the taken input in the same format.\n",
    "\n",
    "Sample Input :\n",
    "5 3\n",
    "1 2 3 4 5\n",
    "Sample Output :\n",
    "5 3\n",
    "1 2 3 4 5\n",
    "\"\"\"\n",
    "\n",
    "# Read the first line of input\n",
    "first_line = input()\n",
    "\n",
    "# Read the second line of input\n",
    "second_line = input()\n",
    "\n",
    "# Print the first line\n",
    "print(first_line)\n",
    "\n",
    "# Print the second line\n",
    "print(second_line)\n"
   ]
  }
 ],
 "metadata": {
  "kernelspec": {
   "display_name": "Python 3 (ipykernel)",
   "language": "python",
   "name": "python3"
  },
  "language_info": {
   "codemirror_mode": {
    "name": "ipython",
    "version": 3
   },
   "file_extension": ".py",
   "mimetype": "text/x-python",
   "name": "python",
   "nbconvert_exporter": "python",
   "pygments_lexer": "ipython3",
   "version": "3.12.5"
  }
 },
 "nbformat": 4,
 "nbformat_minor": 5
}
